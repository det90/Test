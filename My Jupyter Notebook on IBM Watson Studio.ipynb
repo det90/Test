{
  "metadata": {
    "language_info": {
      "codemirror_mode": {
        "name": "python",
        "version": 3
      },
      "file_extension": ".py",
      "mimetype": "text/x-python",
      "name": "python",
      "nbconvert_exporter": "python",
      "pygments_lexer": "ipython3",
      "version": "3.8"
    },
    "kernelspec": {
      "name": "python",
      "display_name": "Pyolite",
      "language": "python"
    }
  },
  "nbformat_minor": 4,
  "nbformat": 4,
  "cells": [
    {
      "cell_type": "markdown",
      "source": "# My Jupyter Notebook on IBM Watson Studio",
      "metadata": {}
    },
    {
      "cell_type": "markdown",
      "source": "**Dennis Tröndle**\nSoftware Engineer",
      "metadata": {}
    },
    {
      "cell_type": "markdown",
      "source": "*I would like to know more about Data Sciene because it is a mixture of Mathematics, Analysis and storytelling.I looks like something that fits my skills.* ",
      "metadata": {}
    },
    {
      "cell_type": "markdown",
      "source": "### My code in the next cell calculates 6*7",
      "metadata": {}
    },
    {
      "cell_type": "code",
      "source": "6*7",
      "metadata": {
        "trusted": true
      },
      "execution_count": 2,
      "outputs": [
        {
          "execution_count": 2,
          "output_type": "execute_result",
          "data": {
            "text/plain": "42"
          },
          "metadata": {}
        }
      ]
    },
    {
      "cell_type": "markdown",
      "source": "~~This is not strikethrough.~~\n- This\n- is\n- a\n- list.\n\n[Help I'm trapped in a Google link.](https://www.google.com \"Google's Homepage\")",
      "metadata": {}
    }
  ]
}